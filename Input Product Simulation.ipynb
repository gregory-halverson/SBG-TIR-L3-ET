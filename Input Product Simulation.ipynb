{
 "cells": [
  {
   "cell_type": "code",
   "execution_count": 1,
   "id": "0dba224e",
   "metadata": {},
   "outputs": [],
   "source": [
    "from os.path import join, basename, dirname\n",
    "import numpy as np\n",
    "from ECOv002_CMR import download_ECOSTRESS_granule\n",
    "from SBG_TIR_L4_JET import generate_L3T_L4T_JET_runconfig, L3T_L4T_JET\n",
    "import SBG_TIR_granules"
   ]
  },
  {
   "cell_type": "code",
   "execution_count": 2,
   "id": "37899adb",
   "metadata": {},
   "outputs": [],
   "source": [
    "working_directory = \"~/data/SBG_example\"\n",
    "static_directory = \"~/data/L3T_L4T_static\""
   ]
  },
  {
   "cell_type": "code",
   "execution_count": 3,
   "id": "e6266e07",
   "metadata": {},
   "outputs": [
    {
     "name": "stdout",
     "output_type": "stream",
     "text": [
      "[2025-06-03 16:58:43 INFO] file already downloaded: \u001b[34m~/data/SBG_example/ECOv002_L2T_LSTE_35698_014_11SPS_20241022T183627_0713_01/ECOv002_L2T_LSTE_35698_014_11SPS_20241022T183627_0713_01_water.tif\u001b[0m\n",
      "[2025-06-03 16:58:43 INFO] file already downloaded: \u001b[34m~/data/SBG_example/ECOv002_L2T_LSTE_35698_014_11SPS_20241022T183627_0713_01/ECOv002_L2T_LSTE_35698_014_11SPS_20241022T183627_0713_01_cloud.tif\u001b[0m\n",
      "[2025-06-03 16:58:43 INFO] file already downloaded: \u001b[34m~/data/SBG_example/ECOv002_L2T_LSTE_35698_014_11SPS_20241022T183627_0713_01/ECOv002_L2T_LSTE_35698_014_11SPS_20241022T183627_0713_01_view_zenith.tif\u001b[0m\n",
      "[2025-06-03 16:58:43 INFO] file already downloaded: \u001b[34m~/data/SBG_example/ECOv002_L2T_LSTE_35698_014_11SPS_20241022T183627_0713_01/ECOv002_L2T_LSTE_35698_014_11SPS_20241022T183627_0713_01_height.tif\u001b[0m\n",
      "[2025-06-03 16:58:43 INFO] file already downloaded: \u001b[34m~/data/SBG_example/ECOv002_L2T_LSTE_35698_014_11SPS_20241022T183627_0713_01/ECOv002_L2T_LSTE_35698_014_11SPS_20241022T183627_0713_01_QC.tif\u001b[0m\n",
      "[2025-06-03 16:58:43 INFO] file already downloaded: \u001b[34m~/data/SBG_example/ECOv002_L2T_LSTE_35698_014_11SPS_20241022T183627_0713_01/ECOv002_L2T_LSTE_35698_014_11SPS_20241022T183627_0713_01_LST.tif\u001b[0m\n",
      "[2025-06-03 16:58:43 INFO] file already downloaded: \u001b[34m~/data/SBG_example/ECOv002_L2T_LSTE_35698_014_11SPS_20241022T183627_0713_01/ECOv002_L2T_LSTE_35698_014_11SPS_20241022T183627_0713_01_LST_err.tif\u001b[0m\n",
      "[2025-06-03 16:58:43 INFO] file already downloaded: \u001b[34m~/data/SBG_example/ECOv002_L2T_LSTE_35698_014_11SPS_20241022T183627_0713_01/ECOv002_L2T_LSTE_35698_014_11SPS_20241022T183627_0713_01_EmisWB.tif\u001b[0m\n",
      "[2025-06-03 16:58:43 INFO] file already downloaded: \u001b[34m~/data/SBG_example/ECOv002_L2T_LSTE_35698_014_11SPS_20241022T183627_0713_01/ECOv002_L2T_LSTE_35698_014_11SPS_20241022T183627_0713_01_water.jpeg.aux.xml\u001b[0m\n",
      "[2025-06-03 16:58:43 INFO] file already downloaded: \u001b[34m~/data/SBG_example/ECOv002_L2T_LSTE_35698_014_11SPS_20241022T183627_0713_01/ECOv002_L2T_LSTE_35698_014_11SPS_20241022T183627_0713_01_cloud.jpeg.aux.xml\u001b[0m\n",
      "[2025-06-03 16:58:43 INFO] file already downloaded: \u001b[34m~/data/SBG_example/ECOv002_L2T_LSTE_35698_014_11SPS_20241022T183627_0713_01/ECOv002_L2T_LSTE_35698_014_11SPS_20241022T183627_0713_01_view_zenith.jpeg.aux.xml\u001b[0m\n",
      "[2025-06-03 16:58:43 INFO] file already downloaded: \u001b[34m~/data/SBG_example/ECOv002_L2T_LSTE_35698_014_11SPS_20241022T183627_0713_01/ECOv002_L2T_LSTE_35698_014_11SPS_20241022T183627_0713_01_height.jpeg.aux.xml\u001b[0m\n",
      "[2025-06-03 16:58:43 INFO] file already downloaded: \u001b[34m~/data/SBG_example/ECOv002_L2T_LSTE_35698_014_11SPS_20241022T183627_0713_01/ECOv002_L2T_LSTE_35698_014_11SPS_20241022T183627_0713_01_QC.jpeg.aux.xml\u001b[0m\n",
      "[2025-06-03 16:58:43 INFO] file already downloaded: \u001b[34m~/data/SBG_example/ECOv002_L2T_LSTE_35698_014_11SPS_20241022T183627_0713_01/ECOv002_L2T_LSTE_35698_014_11SPS_20241022T183627_0713_01_LST.jpeg.aux.xml\u001b[0m\n",
      "[2025-06-03 16:58:43 INFO] file already downloaded: \u001b[34m~/data/SBG_example/ECOv002_L2T_LSTE_35698_014_11SPS_20241022T183627_0713_01/ECOv002_L2T_LSTE_35698_014_11SPS_20241022T183627_0713_01_LST_err.jpeg.aux.xml\u001b[0m\n",
      "[2025-06-03 16:58:43 INFO] file already downloaded: \u001b[34m~/data/SBG_example/ECOv002_L2T_LSTE_35698_014_11SPS_20241022T183627_0713_01/ECOv002_L2T_LSTE_35698_014_11SPS_20241022T183627_0713_01_EmisWB.jpeg.aux.xml\u001b[0m\n",
      "[2025-06-03 16:58:43 INFO] file already downloaded: \u001b[34m~/data/SBG_example/ECOv002_L2T_LSTE_35698_014_11SPS_20241022T183627_0713_01/ECOv002_L2T_LSTE_35698_014_11SPS_20241022T183627_0713_01.json\u001b[0m\n",
      "[2025-06-03 16:58:43 INFO] file already downloaded: \u001b[34m~/data/SBG_example/ECOv002_L2T_LSTE_35698_014_11SPS_20241022T183627_0713_01/ECOv002_L2T_LSTE_35698_014_11SPS_20241022T183627_0713_01_water.jpeg\u001b[0m\n",
      "[2025-06-03 16:58:43 INFO] file already downloaded: \u001b[34m~/data/SBG_example/ECOv002_L2T_LSTE_35698_014_11SPS_20241022T183627_0713_01/ECOv002_L2T_LSTE_35698_014_11SPS_20241022T183627_0713_01_cloud.jpeg\u001b[0m\n",
      "[2025-06-03 16:58:43 INFO] file already downloaded: \u001b[34m~/data/SBG_example/ECOv002_L2T_LSTE_35698_014_11SPS_20241022T183627_0713_01/ECOv002_L2T_LSTE_35698_014_11SPS_20241022T183627_0713_01_view_zenith.jpeg\u001b[0m\n",
      "[2025-06-03 16:58:43 INFO] file already downloaded: \u001b[34m~/data/SBG_example/ECOv002_L2T_LSTE_35698_014_11SPS_20241022T183627_0713_01/ECOv002_L2T_LSTE_35698_014_11SPS_20241022T183627_0713_01_height.jpeg\u001b[0m\n",
      "[2025-06-03 16:58:43 INFO] file already downloaded: \u001b[34m~/data/SBG_example/ECOv002_L2T_LSTE_35698_014_11SPS_20241022T183627_0713_01/ECOv002_L2T_LSTE_35698_014_11SPS_20241022T183627_0713_01_QC.jpeg\u001b[0m\n",
      "[2025-06-03 16:58:43 INFO] file already downloaded: \u001b[34m~/data/SBG_example/ECOv002_L2T_LSTE_35698_014_11SPS_20241022T183627_0713_01/ECOv002_L2T_LSTE_35698_014_11SPS_20241022T183627_0713_01_LST.jpeg\u001b[0m\n",
      "[2025-06-03 16:58:43 INFO] file already downloaded: \u001b[34m~/data/SBG_example/ECOv002_L2T_LSTE_35698_014_11SPS_20241022T183627_0713_01/ECOv002_L2T_LSTE_35698_014_11SPS_20241022T183627_0713_01_LST_err.jpeg\u001b[0m\n",
      "[2025-06-03 16:58:43 INFO] file already downloaded: \u001b[34m~/data/SBG_example/ECOv002_L2T_LSTE_35698_014_11SPS_20241022T183627_0713_01/ECOv002_L2T_LSTE_35698_014_11SPS_20241022T183627_0713_01_EmisWB.jpeg\u001b[0m\n",
      "[2025-06-03 16:58:43 INFO] loading Collection 2 L2T LSTE: \u001b[34m~/data/SBG_example/ECOv002_L2T_LSTE_35698_014_11SPS_20241022T183627_0713_01\u001b[0m\n"
     ]
    },
    {
     "data": {
      "text/plain": [
       "L2TLSTE(\"/Users/gregoryhalverson/data/SBG_example/ECOv002_L2T_LSTE_35698_014_11SPS_20241022T183627_0713_01\")"
      ]
     },
     "execution_count": 3,
     "metadata": {},
     "output_type": "execute_result"
    }
   ],
   "source": [
    "ECOv002_L2T_LSTE_granule = download_ECOSTRESS_granule(\n",
    "    product=\"L2T_LSTE\", \n",
    "    orbit=35698,\n",
    "    scene=14,\n",
    "    tile=\"11SPS\", \n",
    "    aquisition_date=\"2024-10-22\",\n",
    "    parent_directory=working_directory\n",
    ")\n",
    "\n",
    "ECOv002_L2T_LSTE_granule"
   ]
  },
  {
   "cell_type": "code",
   "execution_count": 4,
   "id": "14523a7c",
   "metadata": {},
   "outputs": [
    {
     "data": {
      "text/plain": [
       "'/Users/gregoryhalverson/data/SBG_example/ECOv002_L2T_LSTE_35698_014_11SPS_20241022T183627_0713_01'"
      ]
     },
     "execution_count": 4,
     "metadata": {},
     "output_type": "execute_result"
    }
   ],
   "source": [
    "ECOv002_L2T_LSTE_granule.product_location"
   ]
  },
  {
   "cell_type": "code",
   "execution_count": 5,
   "id": "e8761069",
   "metadata": {},
   "outputs": [
    {
     "data": {
      "text/plain": [
       "{\n",
       "  \"dimensions\": {\n",
       "    \"rows\": 1568,\n",
       "    \"cols\": 1568\n",
       "  },\n",
       "  \"bbox\": {\n",
       "    \"xmin\": 600000.0,\n",
       "    \"ymin\": 3590260.0,\n",
       "    \"xmax\": 709760.0,\n",
       "    \"ymax\": 3700020.0\n",
       "  },\n",
       "  \"crs\": \"EPSG:32611\",\n",
       "  \"resolution\": {\n",
       "    \"cell_width\": 70.0,\n",
       "    \"cell_height\": -70.0\n",
       "  }\n",
       "}"
      ]
     },
     "execution_count": 5,
     "metadata": {},
     "output_type": "execute_result"
    }
   ],
   "source": [
    "input_geometry = ECOv002_L2T_LSTE_granule.geometry\n",
    "input_geometry"
   ]
  },
  {
   "cell_type": "code",
   "execution_count": 6,
   "id": "44f0b0b0",
   "metadata": {},
   "outputs": [
    {
     "data": {
      "text/plain": [
       "{\n",
       "  \"dimensions\": {\n",
       "    \"rows\": 1829,\n",
       "    \"cols\": 1829\n",
       "  },\n",
       "  \"bbox\": {\n",
       "    \"xmin\": 600000.0,\n",
       "    \"ymin\": 3590280.0,\n",
       "    \"xmax\": 709740.0,\n",
       "    \"ymax\": 3700020.0\n",
       "  },\n",
       "  \"crs\": \"EPSG:32611\",\n",
       "  \"resolution\": {\n",
       "    \"cell_width\": 60.0,\n",
       "    \"cell_height\": -60.0\n",
       "  }\n",
       "}"
      ]
     },
     "execution_count": 6,
     "metadata": {},
     "output_type": "execute_result"
    }
   ],
   "source": [
    "output_geometry = input_geometry.rescale(cell_size=60)\n",
    "output_geometry"
   ]
  },
  {
   "cell_type": "code",
   "execution_count": 7,
   "id": "3361aab2",
   "metadata": {},
   "outputs": [
    {
     "data": {
      "text/plain": [
       "'/Users/gregoryhalverson/data/SBG_example/SBG_L2T_LSTE_35698_014_11SPS_20241022T183627_0100_01'"
      ]
     },
     "execution_count": 7,
     "metadata": {},
     "output_type": "execute_result"
    }
   ],
   "source": [
    "input_product_location = ECOv002_L2T_LSTE_granule.product_location\n",
    "input_product_filename_base = basename(input_product_location)\n",
    "directory = dirname(input_product_location)\n",
    "simulated_filename_base = input_product_filename_base.replace(\"ECOv002_\", \"SBG_\")\n",
    "simulated_filename_base = \"_\".join(simulated_filename_base.split(\"_\")[:-2]) + \"_0100_01\"\n",
    "simulated_product_location = join(directory, simulated_filename_base)\n",
    "simulated_product_location"
   ]
  },
  {
   "cell_type": "code",
   "execution_count": 8,
   "id": "b5097d6e",
   "metadata": {},
   "outputs": [
    {
     "data": {
      "text/plain": [
       "L2TLSTE(\"/Users/gregoryhalverson/data/SBG_example/SBG_L2T_LSTE_35698_014_11SPS_20241022T183627_0100_01\")"
      ]
     },
     "execution_count": 8,
     "metadata": {},
     "output_type": "execute_result"
    }
   ],
   "source": [
    "granule = SBG_TIR_granules.L2TLSTE(\n",
    "    product_location=simulated_product_location\n",
    ")\n",
    "\n",
    "granule"
   ]
  },
  {
   "cell_type": "code",
   "execution_count": 9,
   "id": "9cde84d7",
   "metadata": {},
   "outputs": [
    {
     "data": {
      "text/plain": [
       "['LST', 'LST_err', 'EmisWB', 'water', 'cloud', 'height', 'view_zenith', 'QC']"
      ]
     },
     "execution_count": 9,
     "metadata": {},
     "output_type": "execute_result"
    }
   ],
   "source": [
    "ECOv002_L2T_LSTE_granule.variables"
   ]
  },
  {
   "cell_type": "code",
   "execution_count": 10,
   "id": "92278fdd",
   "metadata": {},
   "outputs": [
    {
     "name": "stdout",
     "output_type": "stream",
     "text": [
      "LST\n",
      "[2025-06-03 16:58:43 INFO] started reading L2T_LSTE LST: \u001b[34m/Users/gregoryhalverson/data/SBG_example/ECOv002_L2T_LSTE_35698_014_11SPS_20241022T183627_0713_01/ECOv002_L2T_LSTE_35698_014_11SPS_20241022T183627_0713_01_LST.tif\u001b[0m\n",
      "[2025-06-03 16:58:43 INFO] finished reading L2T_LSTE LST (0.02s)\n",
      "[2025-06-03 16:58:44 INFO] adding \u001b[33mL2T_LSTE\u001b[0m layer \u001b[33mLST\u001b[0m min: \u001b[36m296.08\u001b[0m mean: \u001b[36m313.7772\u001b[0m max: \u001b[36m323.9\u001b[0m cmap: \u001b[33mjet\u001b[0m file: \u001b[34m/Users/gregoryhalverson/data/SBG_example/SBG_L2T_LSTE_35698_014_11SPS_20241022T183627_0100_01/SBG_L2T_LSTE_35698_014_11SPS_20241022T183627_0100_01_LST.tif\u001b[0m\n",
      "Input file size is 1829, 1829\n",
      "0...10...20...30...40...50...60...70...80...90...100 - done.\n",
      "LST_err\n",
      "[2025-06-03 16:58:45 INFO] started reading L2T_LSTE LST_err: \u001b[34m/Users/gregoryhalverson/data/SBG_example/ECOv002_L2T_LSTE_35698_014_11SPS_20241022T183627_0713_01/ECOv002_L2T_LSTE_35698_014_11SPS_20241022T183627_0713_01_LST_err.tif\u001b[0m\n",
      "[2025-06-03 16:58:45 INFO] finished reading L2T_LSTE LST_err (0.01s)\n",
      "[2025-06-03 16:58:46 INFO] adding \u001b[33mL2T_LSTE\u001b[0m layer \u001b[33mLST_err\u001b[0m min: \u001b[36m0.84\u001b[0m mean: \u001b[36m1.0963035\u001b[0m max: \u001b[36m1.48\u001b[0m cmap: \u001b[33mjet\u001b[0m file: \u001b[34m/Users/gregoryhalverson/data/SBG_example/SBG_L2T_LSTE_35698_014_11SPS_20241022T183627_0100_01/SBG_L2T_LSTE_35698_014_11SPS_20241022T183627_0100_01_LST_err.tif\u001b[0m\n",
      "Input file size is 1829, 1829\n",
      "0...10...20...30...40...50...60...70...80...90...100 - done.\n",
      "EmisWB\n",
      "[2025-06-03 16:58:47 INFO] started reading L2T_LSTE EmisWB: \u001b[34m/Users/gregoryhalverson/data/SBG_example/ECOv002_L2T_LSTE_35698_014_11SPS_20241022T183627_0713_01/ECOv002_L2T_LSTE_35698_014_11SPS_20241022T183627_0713_01_EmisWB.tif\u001b[0m\n",
      "[2025-06-03 16:58:47 INFO] finished reading L2T_LSTE EmisWB (0.01s)\n",
      "[2025-06-03 16:58:48 INFO] adding \u001b[33mL2T_LSTE\u001b[0m layer \u001b[33mEmisWB\u001b[0m min: \u001b[36m0.834\u001b[0m mean: \u001b[36m0.93712604\u001b[0m max: \u001b[36m0.98\u001b[0m cmap: \u001b[33mjet\u001b[0m file: \u001b[34m/Users/gregoryhalverson/data/SBG_example/SBG_L2T_LSTE_35698_014_11SPS_20241022T183627_0100_01/SBG_L2T_LSTE_35698_014_11SPS_20241022T183627_0100_01_EmisWB.tif\u001b[0m\n",
      "Input file size is 1829, 1829\n",
      "0...10...20...30...40...50...60...70...80...90...100 - done.\n",
      "water\n",
      "[2025-06-03 16:58:49 INFO] started reading L2T_LSTE water: \u001b[34m/Users/gregoryhalverson/data/SBG_example/ECOv002_L2T_LSTE_35698_014_11SPS_20241022T183627_0713_01/ECOv002_L2T_LSTE_35698_014_11SPS_20241022T183627_0713_01_water.tif\u001b[0m\n",
      "[2025-06-03 16:58:49 INFO] finished reading L2T_LSTE water (0.00s)\n",
      "[2025-06-03 16:58:50 INFO] adding \u001b[33mL2T_LSTE\u001b[0m layer \u001b[33mwater\u001b[0m min: \u001b[36m0\u001b[0m mean: \u001b[36m0.060772303101630044\u001b[0m max: \u001b[36m1\u001b[0m cmap: \u001b[33mjet\u001b[0m file: \u001b[34m/Users/gregoryhalverson/data/SBG_example/SBG_L2T_LSTE_35698_014_11SPS_20241022T183627_0100_01/SBG_L2T_LSTE_35698_014_11SPS_20241022T183627_0100_01_water.tif\u001b[0m\n",
      "Input file size is 1829, 1829\n",
      "0...10...20...30...40...50...60...70...80...90...100 - done.\n",
      "cloud\n",
      "[2025-06-03 16:58:50 INFO] started reading L2T_LSTE cloud: \u001b[34m/Users/gregoryhalverson/data/SBG_example/ECOv002_L2T_LSTE_35698_014_11SPS_20241022T183627_0713_01/ECOv002_L2T_LSTE_35698_014_11SPS_20241022T183627_0713_01_cloud.tif\u001b[0m\n",
      "[2025-06-03 16:58:50 INFO] finished reading L2T_LSTE cloud (0.00s)\n",
      "[2025-06-03 16:58:51 INFO] adding \u001b[33mL2T_LSTE\u001b[0m layer \u001b[33mcloud\u001b[0m min: \u001b[36m0\u001b[0m mean: \u001b[36m0.0\u001b[0m max: \u001b[36m0\u001b[0m cmap: \u001b[33mjet\u001b[0m file: \u001b[34m/Users/gregoryhalverson/data/SBG_example/SBG_L2T_LSTE_35698_014_11SPS_20241022T183627_0100_01/SBG_L2T_LSTE_35698_014_11SPS_20241022T183627_0100_01_cloud.tif\u001b[0m\n",
      "Input file size is 1829, 1829\n",
      "0...10...20...30...40...50...60...70...80...90...100 - done.\n",
      "height\n",
      "[2025-06-03 16:58:51 INFO] started reading L2T_LSTE height: \u001b[34m/Users/gregoryhalverson/data/SBG_example/ECOv002_L2T_LSTE_35698_014_11SPS_20241022T183627_0713_01/ECOv002_L2T_LSTE_35698_014_11SPS_20241022T183627_0713_01_height.tif\u001b[0m\n",
      "[2025-06-03 16:58:51 INFO] finished reading L2T_LSTE height (0.02s)\n",
      "[2025-06-03 16:58:52 INFO] adding \u001b[33mL2T_LSTE\u001b[0m layer \u001b[33mheight\u001b[0m min: \u001b[36m-115.45479\u001b[0m mean: \u001b[36m24.199963\u001b[0m max: \u001b[36m1646.2797\u001b[0m cmap: \u001b[33mjet\u001b[0m file: \u001b[34m/Users/gregoryhalverson/data/SBG_example/SBG_L2T_LSTE_35698_014_11SPS_20241022T183627_0100_01/SBG_L2T_LSTE_35698_014_11SPS_20241022T183627_0100_01_height.tif\u001b[0m\n",
      "Input file size is 1829, 1829\n",
      "0...10...20...30...40...50...60...70...80...90...100 - done.\n",
      "view_zenith\n",
      "[2025-06-03 16:58:53 INFO] started reading L2T_LSTE view_zenith: \u001b[34m/Users/gregoryhalverson/data/SBG_example/ECOv002_L2T_LSTE_35698_014_11SPS_20241022T183627_0713_01/ECOv002_L2T_LSTE_35698_014_11SPS_20241022T183627_0713_01_view_zenith.tif\u001b[0m\n",
      "[2025-06-03 16:58:53 INFO] finished reading L2T_LSTE view_zenith (0.02s)\n",
      "[2025-06-03 16:58:54 INFO] adding \u001b[33mL2T_LSTE\u001b[0m layer \u001b[33mview_zenith\u001b[0m min: \u001b[36m15.590401\u001b[0m mean: \u001b[36m24.517159\u001b[0m max: \u001b[36m30.14645\u001b[0m cmap: \u001b[33mjet\u001b[0m file: \u001b[34m/Users/gregoryhalverson/data/SBG_example/SBG_L2T_LSTE_35698_014_11SPS_20241022T183627_0100_01/SBG_L2T_LSTE_35698_014_11SPS_20241022T183627_0100_01_view_zenith.tif\u001b[0m\n",
      "Input file size is 1829, 1829\n",
      "0...10...20...30...40...50...60...70...80...90...100 - done.\n",
      "QC\n",
      "[2025-06-03 16:58:55 INFO] started reading L2T_LSTE QC: \u001b[34m/Users/gregoryhalverson/data/SBG_example/ECOv002_L2T_LSTE_35698_014_11SPS_20241022T183627_0713_01/ECOv002_L2T_LSTE_35698_014_11SPS_20241022T183627_0713_01_QC.tif\u001b[0m\n",
      "[2025-06-03 16:58:55 INFO] finished reading L2T_LSTE QC (0.01s)\n",
      "[2025-06-03 16:58:56 INFO] adding \u001b[33mL2T_LSTE\u001b[0m layer \u001b[33mQC\u001b[0m min: \u001b[36m0\u001b[0m mean: \u001b[36m30138.3560281606\u001b[0m max: \u001b[36m57280\u001b[0m cmap: \u001b[33mjet\u001b[0m file: \u001b[34m/Users/gregoryhalverson/data/SBG_example/SBG_L2T_LSTE_35698_014_11SPS_20241022T183627_0100_01/SBG_L2T_LSTE_35698_014_11SPS_20241022T183627_0100_01_QC.tif\u001b[0m\n",
      "Input file size is 1829, 1829\n",
      "0...10...20...30...40...50...60...70...80...90...100 - done.\n"
     ]
    }
   ],
   "source": [
    "for variable in ECOv002_L2T_LSTE_granule.variables:\n",
    "    print(variable)\n",
    "    image = ECOv002_L2T_LSTE_granule.variable(variable).resample(target_geometry=output_geometry)\n",
    "    granule.add_layer(variable_name=variable, image=image)"
   ]
  },
  {
   "cell_type": "code",
   "execution_count": null,
   "id": "6f72aaf3",
   "metadata": {},
   "outputs": [],
   "source": []
  }
 ],
 "metadata": {
  "kernelspec": {
   "display_name": "SBG-TIR-L4-JET",
   "language": "python",
   "name": "python3"
  },
  "language_info": {
   "codemirror_mode": {
    "name": "ipython",
    "version": 3
   },
   "file_extension": ".py",
   "mimetype": "text/x-python",
   "name": "python",
   "nbconvert_exporter": "python",
   "pygments_lexer": "ipython3",
   "version": "3.10.17"
  }
 },
 "nbformat": 4,
 "nbformat_minor": 5
}
