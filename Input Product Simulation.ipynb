{
 "cells": [
  {
   "cell_type": "code",
   "execution_count": 8,
   "id": "0dba224e",
   "metadata": {},
   "outputs": [],
   "source": [
    "from os.path import join, basename, dirname\n",
    "import numpy as np\n",
    "from ECOv002_CMR import download_ECOSTRESS_granule\n",
    "from SBG_TIR_L4_JET import generate_L3T_L4T_JET_runconfig, L3T_L4T_JET\n",
    "import SBG_TIR_granules"
   ]
  },
  {
   "cell_type": "code",
   "execution_count": 2,
   "id": "37899adb",
   "metadata": {},
   "outputs": [],
   "source": [
    "working_directory = \"~/data/SBG_example\"\n",
    "static_directory = \"~/data/L3T_L4T_static\""
   ]
  },
  {
   "cell_type": "code",
   "execution_count": 6,
   "id": "e6266e07",
   "metadata": {},
   "outputs": [
    {
     "name": "stdout",
     "output_type": "stream",
     "text": [
      "[2025-06-03 15:18:30 INFO] file already downloaded: \u001b[34m~/data/SBG_example/ECOv002_L2T_LSTE_35698_014_11SPS_20241022T183627_0713_01/ECOv002_L2T_LSTE_35698_014_11SPS_20241022T183627_0713_01_water.tif\u001b[0m\n",
      "[2025-06-03 15:18:30 INFO] file already downloaded: \u001b[34m~/data/SBG_example/ECOv002_L2T_LSTE_35698_014_11SPS_20241022T183627_0713_01/ECOv002_L2T_LSTE_35698_014_11SPS_20241022T183627_0713_01_cloud.tif\u001b[0m\n",
      "[2025-06-03 15:18:30 INFO] file already downloaded: \u001b[34m~/data/SBG_example/ECOv002_L2T_LSTE_35698_014_11SPS_20241022T183627_0713_01/ECOv002_L2T_LSTE_35698_014_11SPS_20241022T183627_0713_01_view_zenith.tif\u001b[0m\n",
      "[2025-06-03 15:18:30 INFO] file already downloaded: \u001b[34m~/data/SBG_example/ECOv002_L2T_LSTE_35698_014_11SPS_20241022T183627_0713_01/ECOv002_L2T_LSTE_35698_014_11SPS_20241022T183627_0713_01_height.tif\u001b[0m\n",
      "[2025-06-03 15:18:30 INFO] file already downloaded: \u001b[34m~/data/SBG_example/ECOv002_L2T_LSTE_35698_014_11SPS_20241022T183627_0713_01/ECOv002_L2T_LSTE_35698_014_11SPS_20241022T183627_0713_01_QC.tif\u001b[0m\n",
      "[2025-06-03 15:18:30 INFO] file already downloaded: \u001b[34m~/data/SBG_example/ECOv002_L2T_LSTE_35698_014_11SPS_20241022T183627_0713_01/ECOv002_L2T_LSTE_35698_014_11SPS_20241022T183627_0713_01_LST.tif\u001b[0m\n",
      "[2025-06-03 15:18:30 INFO] file already downloaded: \u001b[34m~/data/SBG_example/ECOv002_L2T_LSTE_35698_014_11SPS_20241022T183627_0713_01/ECOv002_L2T_LSTE_35698_014_11SPS_20241022T183627_0713_01_LST_err.tif\u001b[0m\n",
      "[2025-06-03 15:18:30 INFO] file already downloaded: \u001b[34m~/data/SBG_example/ECOv002_L2T_LSTE_35698_014_11SPS_20241022T183627_0713_01/ECOv002_L2T_LSTE_35698_014_11SPS_20241022T183627_0713_01_EmisWB.tif\u001b[0m\n",
      "[2025-06-03 15:18:30 INFO] file already downloaded: \u001b[34m~/data/SBG_example/ECOv002_L2T_LSTE_35698_014_11SPS_20241022T183627_0713_01/ECOv002_L2T_LSTE_35698_014_11SPS_20241022T183627_0713_01_water.jpeg.aux.xml\u001b[0m\n",
      "[2025-06-03 15:18:30 INFO] file already downloaded: \u001b[34m~/data/SBG_example/ECOv002_L2T_LSTE_35698_014_11SPS_20241022T183627_0713_01/ECOv002_L2T_LSTE_35698_014_11SPS_20241022T183627_0713_01_cloud.jpeg.aux.xml\u001b[0m\n",
      "[2025-06-03 15:18:30 INFO] file already downloaded: \u001b[34m~/data/SBG_example/ECOv002_L2T_LSTE_35698_014_11SPS_20241022T183627_0713_01/ECOv002_L2T_LSTE_35698_014_11SPS_20241022T183627_0713_01_view_zenith.jpeg.aux.xml\u001b[0m\n",
      "[2025-06-03 15:18:30 INFO] file already downloaded: \u001b[34m~/data/SBG_example/ECOv002_L2T_LSTE_35698_014_11SPS_20241022T183627_0713_01/ECOv002_L2T_LSTE_35698_014_11SPS_20241022T183627_0713_01_height.jpeg.aux.xml\u001b[0m\n",
      "[2025-06-03 15:18:30 INFO] file already downloaded: \u001b[34m~/data/SBG_example/ECOv002_L2T_LSTE_35698_014_11SPS_20241022T183627_0713_01/ECOv002_L2T_LSTE_35698_014_11SPS_20241022T183627_0713_01_QC.jpeg.aux.xml\u001b[0m\n",
      "[2025-06-03 15:18:30 INFO] file already downloaded: \u001b[34m~/data/SBG_example/ECOv002_L2T_LSTE_35698_014_11SPS_20241022T183627_0713_01/ECOv002_L2T_LSTE_35698_014_11SPS_20241022T183627_0713_01_LST.jpeg.aux.xml\u001b[0m\n",
      "[2025-06-03 15:18:30 INFO] file already downloaded: \u001b[34m~/data/SBG_example/ECOv002_L2T_LSTE_35698_014_11SPS_20241022T183627_0713_01/ECOv002_L2T_LSTE_35698_014_11SPS_20241022T183627_0713_01_LST_err.jpeg.aux.xml\u001b[0m\n",
      "[2025-06-03 15:18:30 INFO] file already downloaded: \u001b[34m~/data/SBG_example/ECOv002_L2T_LSTE_35698_014_11SPS_20241022T183627_0713_01/ECOv002_L2T_LSTE_35698_014_11SPS_20241022T183627_0713_01_EmisWB.jpeg.aux.xml\u001b[0m\n",
      "[2025-06-03 15:18:30 INFO] file already downloaded: \u001b[34m~/data/SBG_example/ECOv002_L2T_LSTE_35698_014_11SPS_20241022T183627_0713_01/ECOv002_L2T_LSTE_35698_014_11SPS_20241022T183627_0713_01.json\u001b[0m\n",
      "[2025-06-03 15:18:30 INFO] file already downloaded: \u001b[34m~/data/SBG_example/ECOv002_L2T_LSTE_35698_014_11SPS_20241022T183627_0713_01/ECOv002_L2T_LSTE_35698_014_11SPS_20241022T183627_0713_01_water.jpeg\u001b[0m\n",
      "[2025-06-03 15:18:30 INFO] file already downloaded: \u001b[34m~/data/SBG_example/ECOv002_L2T_LSTE_35698_014_11SPS_20241022T183627_0713_01/ECOv002_L2T_LSTE_35698_014_11SPS_20241022T183627_0713_01_cloud.jpeg\u001b[0m\n",
      "[2025-06-03 15:18:30 INFO] file already downloaded: \u001b[34m~/data/SBG_example/ECOv002_L2T_LSTE_35698_014_11SPS_20241022T183627_0713_01/ECOv002_L2T_LSTE_35698_014_11SPS_20241022T183627_0713_01_view_zenith.jpeg\u001b[0m\n",
      "[2025-06-03 15:18:30 INFO] file already downloaded: \u001b[34m~/data/SBG_example/ECOv002_L2T_LSTE_35698_014_11SPS_20241022T183627_0713_01/ECOv002_L2T_LSTE_35698_014_11SPS_20241022T183627_0713_01_height.jpeg\u001b[0m\n",
      "[2025-06-03 15:18:30 INFO] file already downloaded: \u001b[34m~/data/SBG_example/ECOv002_L2T_LSTE_35698_014_11SPS_20241022T183627_0713_01/ECOv002_L2T_LSTE_35698_014_11SPS_20241022T183627_0713_01_QC.jpeg\u001b[0m\n",
      "[2025-06-03 15:18:30 INFO] file already downloaded: \u001b[34m~/data/SBG_example/ECOv002_L2T_LSTE_35698_014_11SPS_20241022T183627_0713_01/ECOv002_L2T_LSTE_35698_014_11SPS_20241022T183627_0713_01_LST.jpeg\u001b[0m\n",
      "[2025-06-03 15:18:30 INFO] file already downloaded: \u001b[34m~/data/SBG_example/ECOv002_L2T_LSTE_35698_014_11SPS_20241022T183627_0713_01/ECOv002_L2T_LSTE_35698_014_11SPS_20241022T183627_0713_01_LST_err.jpeg\u001b[0m\n",
      "[2025-06-03 15:18:30 INFO] file already downloaded: \u001b[34m~/data/SBG_example/ECOv002_L2T_LSTE_35698_014_11SPS_20241022T183627_0713_01/ECOv002_L2T_LSTE_35698_014_11SPS_20241022T183627_0713_01_EmisWB.jpeg\u001b[0m\n",
      "[2025-06-03 15:18:30 INFO] loading Collection 2 L2T LSTE: \u001b[34m~/data/SBG_example/ECOv002_L2T_LSTE_35698_014_11SPS_20241022T183627_0713_01\u001b[0m\n"
     ]
    },
    {
     "data": {
      "text/plain": [
       "L2TLSTE(\"/Users/gregoryhalverson/data/SBG_example/ECOv002_L2T_LSTE_35698_014_11SPS_20241022T183627_0713_01\")"
      ]
     },
     "execution_count": 6,
     "metadata": {},
     "output_type": "execute_result"
    }
   ],
   "source": [
    "ECOv002_L2T_LSTE_granule = download_ECOSTRESS_granule(\n",
    "    product=\"L2T_LSTE\", \n",
    "    orbit=35698,\n",
    "    scene=14,\n",
    "    tile=\"11SPS\", \n",
    "    aquisition_date=\"2024-10-22\",\n",
    "    parent_directory=working_directory\n",
    ")\n",
    "\n",
    "ECOv002_L2T_LSTE_granule"
   ]
  },
  {
   "cell_type": "code",
   "execution_count": 7,
   "id": "14523a7c",
   "metadata": {},
   "outputs": [
    {
     "data": {
      "text/plain": [
       "'/Users/gregoryhalverson/data/SBG_example/ECOv002_L2T_LSTE_35698_014_11SPS_20241022T183627_0713_01'"
      ]
     },
     "execution_count": 7,
     "metadata": {},
     "output_type": "execute_result"
    }
   ],
   "source": [
    "ECOv002_L2T_LSTE_granule.product_location"
   ]
  },
  {
   "cell_type": "code",
   "execution_count": 17,
   "id": "3361aab2",
   "metadata": {},
   "outputs": [
    {
     "data": {
      "text/plain": [
       "'/Users/gregoryhalverson/data/SBG_example/SBG_L2T_LSTE_35698_014_11SPS_20241022T183627_0100_01'"
      ]
     },
     "execution_count": 17,
     "metadata": {},
     "output_type": "execute_result"
    }
   ],
   "source": [
    "input_product_location = ECOv002_L2T_LSTE_granule.product_location\n",
    "input_product_filename_base = basename(input_product_location)\n",
    "directory = dirname(input_product_location)\n",
    "simulated_filename_base = input_product_filename_base.replace(\"ECOv002_\", \"SBG_\")\n",
    "simulated_filename_base = \"_\".join(simulated_filename_base.split(\"_\")[:-2]) + \"_0100_01\"\n",
    "simulated_product_location = join(directory, simulated_filename_base)\n",
    "simulated_product_location"
   ]
  },
  {
   "cell_type": "code",
   "execution_count": 18,
   "id": "b5097d6e",
   "metadata": {},
   "outputs": [
    {
     "data": {
      "text/plain": [
       "L2TLSTE(\"/Users/gregoryhalverson/data/SBG_example/SBG_L2T_LSTE_35698_014_11SPS_20241022T183627_0100_01\")"
      ]
     },
     "execution_count": 18,
     "metadata": {},
     "output_type": "execute_result"
    }
   ],
   "source": [
    "granule = SBG_TIR_granules.L2TLSTE(\n",
    "    product_location=simulated_product_location\n",
    ")\n",
    "\n",
    "granule"
   ]
  },
  {
   "cell_type": "code",
   "execution_count": null,
   "id": "9cde84d7",
   "metadata": {},
   "outputs": [],
   "source": [
    "granule.write"
   ]
  }
 ],
 "metadata": {
  "kernelspec": {
   "display_name": "SBG-TIR-L4-JET",
   "language": "python",
   "name": "python3"
  },
  "language_info": {
   "codemirror_mode": {
    "name": "ipython",
    "version": 3
   },
   "file_extension": ".py",
   "mimetype": "text/x-python",
   "name": "python",
   "nbconvert_exporter": "python",
   "pygments_lexer": "ipython3",
   "version": "3.10.17"
  }
 },
 "nbformat": 4,
 "nbformat_minor": 5
}
